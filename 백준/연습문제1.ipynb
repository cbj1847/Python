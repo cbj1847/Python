{
 "cells": [
  {
   "attachments": {},
   "cell_type": "markdown",
   "metadata": {},
   "source": [
    "### Q1181.\n",
    "알파벳 소문자로 이루어진 N개의 단어가 들어오면 아래와 같은 조건에 따라 정렬하는 프로그램을 작성하시오.\n",
    "\n",
    "길이가 짧은 것부터 길이가 같으면 사전 순으로\n",
    "단, 중복된 단어는 하나만 남기고 제거해야 한다."
   ]
  },
  {
   "cell_type": "code",
   "execution_count": 17,
   "metadata": {},
   "outputs": [
    {
     "name": "stdout",
     "output_type": "stream",
     "text": [
      "단어의 갯수 : (1 ≤ N ≤ 20,000), string의 길이 < 50\n",
      "[{'sssssssssssssssssssssssssssssssssssssssssssssssssssssssssssssssssssssssssssssssssssssssssssssssssssssssssssssssssssssssssssssssssssssssssssssssssssssssssssssssssssssssssssssssssssssssssssssssssssssssssssssssssssssssssssssssssssssssssssssssssssssssssssssssssssssssssssssssssssssssssssssssss'}]\n"
     ]
    }
   ],
   "source": [
    "words = input().split()\n",
    "s_words = set(words)\n",
    "l_words = [s_words]\n",
    "\n",
    "if len(s_words) < 20000:\n",
    "    len_dict = {}\n",
    "    # words 입력순으로 모든 word의 길이 key : 빈리스트value 생성\n",
    "    for word in l_words:\n",
    "        if len(word) > 50:\n",
    "            print('단어의 길이를 확인해 주세요')\n",
    "            break\n",
    "        else:\n",
    "            len_dict[len(word)] = []\n",
    "\n",
    "    # len_dict의 key에 value append\n",
    "    for key in len_dict:\n",
    "        for word in l_words:\n",
    "            if len(word) == key:\n",
    "                len_dict[key].append(word)\n",
    "\n",
    "    # 딕셔너리 키값 사전순 정렬\n",
    "    d2 = sorted(len_dict.items())\n",
    "\n",
    "    # 딕셔너리 밸류값 사전순 정렬\n",
    "    for list in d2:\n",
    "        list[1].sort()\n",
    "\n",
    "    # 최종적으로 하나의 리스트안에 정렬한 값들 키값 순으로 더하기\n",
    "    d3 = []\n",
    "    for list in d2:\n",
    "        d3 += list[1]\n",
    "\n",
    "    print('단어의 갯수 : (1 ≤ N ≤ 20,000), string의 길이 < 50')\n",
    "    print(d3)\n",
    "else:\n",
    "    print('단어의 갯수는 20000개보다 적어야 합니다.')"
   ]
  },
  {
   "attachments": {},
   "cell_type": "markdown",
   "metadata": {},
   "source": [
    "### Q.2231\n",
    "어떤 자연수 N이 있을 때, 그 자연수 N의 분해합은 N과 N을 이루는 각 자리수의 합을 의미한다. 어떤 자연수 M의 분해합이 N인 경우, M을 N의 생성자라 한다. 예를 들어, 245의 분해합은 256(=245+2+4+5)이 된다. 따라서 245는 256의 생성자가 된다. 물론, 어떤 자연수의 경우에는 생성자가 없을 수도 있다. 반대로, 생성자가 여러 개인 자연수도 있을 수 있다.\n",
    "\n",
    "자연수 N이 주어졌을 때, N의 가장 작은 생성자를 구해내는 프로그램을 작성하시오."
   ]
  },
  {
   "cell_type": "code",
   "execution_count": 49,
   "metadata": {},
   "outputs": [
    {
     "name": "stdout",
     "output_type": "stream",
     "text": [
      "자연수 216의 생성자는 [198, 207]입니다.\n"
     ]
    }
   ],
   "source": [
    "temp = int(input('1 ~ 1,000,000 자연수 입력>> '))\n",
    "\n",
    "def jari(num):\n",
    "    sum = 0\n",
    "    num1 = str(num)\n",
    "    arr = []\n",
    "    for ele in num1:\n",
    "        arr += ele\n",
    "    for i in range(len(arr)):\n",
    "        sum += int(arr[i])\n",
    "    return sum + num\n",
    "\n",
    "nums = []\n",
    "for i in range(temp):\n",
    "    if jari(i) == temp:\n",
    "        nums.append(i)\n",
    "if nums == []:\n",
    "    print()\n",
    "print(f'자연수 {temp}의 생성자는 {nums}입니다.')"
   ]
  },
  {
   "attachments": {},
   "cell_type": "markdown",
   "metadata": {},
   "source": [
    "### Q.2839\n",
    "상근이는 요즘 설탕공장에서 설탕을 배달하고 있다. 상근이는 지금 사탕가게에 설탕을 정확하게 N킬로그램을 배달해야 한다. 설탕공장에서 만드는 설탕은 봉지에 담겨져 있다. 봉지는 3킬로그램 봉지와 5킬로그램 봉지가 있다.\n",
    "\n",
    "상근이는 귀찮기 때문에, 최대한 적은 봉지를 들고 가려고 한다. 예를 들어, 18킬로그램 설탕을 배달해야 할 때, 3킬로그램 봉지 6개를 가져가도 되지만, 5킬로그램 3개와 3킬로그램 1개를 배달하면, 더 적은 개수의 봉지를 배달할 수 있다.\n",
    "\n",
    "상근이가 설탕을 정확하게 N킬로그램 배달해야 할 때, 봉지 몇 개를 가져가면 되는지 그 수를 구하는 프로그램을 작성하시오.\n",
    "첫째 줄에 N이 주어진다. (3 ≤ N ≤ 5000)"
   ]
  },
  {
   "cell_type": "code",
   "execution_count": 13,
   "metadata": {},
   "outputs": [
    {
     "name": "stdout",
     "output_type": "stream",
     "text": [
      "5kg : 134봉지, 3kg : 4봉지가 최적값입니다.\n"
     ]
    }
   ],
   "source": [
    "sugar = int(input('설탕의 무게 입력(3~5000)>> '))\n",
    "\n",
    "while(True):\n",
    "    if sugar > 5000:\n",
    "        print('값을 다시 입력해 주세요(3~5000).')\n",
    "        sugar = int(input('설탕의 무게 입력(3~5000)>> '))\n",
    "    break\n",
    "\n",
    "temp_list = []\n",
    "for i in range((sugar // 5) + 1):\n",
    "    for j in range((sugar // 3) + 1):\n",
    "        if sugar - 5*i -3*j == 0:\n",
    "            temp_list.append([i, j])\n",
    "least_val = temp_list[-1]\n",
    "print(f'5kg : {least_val[0]}봉지, 3kg : {least_val[1]}봉지가 최적값입니다.')"
   ]
  },
  {
   "attachments": {},
   "cell_type": "markdown",
   "metadata": {},
   "source": [
    "### Q.3003\n",
    "동혁이는 오래된 창고를 뒤지다가 낡은 체스판과 피스를 발견했다.\n",
    "체스판의 먼지를 털어내고 걸레로 닦으니 그럭저럭 쓸만한 체스판이 되었다. 하지만, 검정색 피스는 모두 있었으나, 흰색 피스는 개수가 올바르지 않았다.\n",
    "체스는 총 16개의 피스를 사용하며, 킹 1개, 퀸 1개, 룩 2개, 비숍 2개, 나이트 2개, 폰 8개로 구성되어 있다.\n",
    "동혁이가 발견한 흰색 피스의 개수가 주어졌을 때, 몇 개를 더하거나 빼야 올바른 세트가 되는지 구하는 프로그램을 작성하시오.\n",
    "첫째 줄에 동혁이가 찾은 흰색 킹, 퀸, 룩, 비숍, 나이트, 폰의 개수가 주어진다. 이 값은 0보다 크거나 같고 10보다 작거나 같은 정수이다."
   ]
  },
  {
   "cell_type": "code",
   "execution_count": 17,
   "metadata": {},
   "outputs": [
    {
     "name": "stdout",
     "output_type": "stream",
     "text": [
      "{'킹': 0, '퀸': 0, '룩': 1, '비숍': 0, '나이트': -1, '폰': 7}개 만큼 필요 합니다.\n"
     ]
    }
   ],
   "source": [
    "horses = input('흰색 킹, 퀸, 룩, 비숍, 나이트, 폰의 개수 입력(각 0~10개)>> ').split()\n",
    "while(True):\n",
    "    for i in range(len(horses)):\n",
    "        if 0 > int(horses[i]) or int(horses[i]) > 10 or len(horses) != 6:\n",
    "            print('각 말의 갯수는 0~10, 말의 종류는 6종입니다. 다시 입력해주세요.')\n",
    "            horses = input('흰색 킹, 퀸, 룩, 비숍, 나이트, 폰의 개수 입력(각 0~10개)>> ').split()\n",
    "    break\n",
    "\n",
    "horses_dict = {'킹': 1 - int(horses[0]), '퀸': 1 - int(horses[1]), '룩': 2 - int(horses[2]),\\\n",
    "                '비숍': 2 - int(horses[3]), '나이트': 2 - int(horses[4]), '폰': 8 -int(horses[5])}\n",
    "\n",
    "print(f'각각 {horses_dict}개 만큼 필요 합니다.')"
   ]
  },
  {
   "attachments": {},
   "cell_type": "markdown",
   "metadata": {},
   "source": [
    "### Q.11720\n",
    "N개의 숫자가 공백 없이 쓰여있다. 이 숫자를 모두 합해서 출력하는 프로그램을 작성하시오.\n",
    "\n",
    "첫째 줄에 숫자의 개수 N (1 ≤ N ≤ 100)이 주어진다. 둘째 줄에 숫자 N개가 공백없이 주어진다.\n",
    "\n",
    "입력으로 주어진 숫자 N개의 합을 출력한다."
   ]
  },
  {
   "cell_type": "code",
   "execution_count": 41,
   "metadata": {},
   "outputs": [
    {
     "name": "stdout",
     "output_type": "stream",
     "text": [
      "6\n"
     ]
    }
   ],
   "source": [
    "a = int(input('1~100 숫자 갯수 입력>> '))\n",
    "b = input('1~9숫자입력')\n",
    "c = []\n",
    "sum1 = 0\n",
    "for i in range(a):\n",
    "    sum1 += (int(b[i]))\n",
    "\n",
    "print(sum1)"
   ]
  },
  {
   "attachments": {},
   "cell_type": "markdown",
   "metadata": {},
   "source": [
    "### Q. 19532\n",
    "수현이는 4차 산업혁명 시대에 살고 있는 중학생이다. 코로나 19로 인해, 수현이는 버추얼 학교로 버추얼 출석해 버추얼 강의를 듣고 있다. 수현이의 버추얼 선생님은 문자가 2개인 연립방정식을 해결하는 방법에 대해 강의하고, 다음과 같은 문제를 숙제로 냈다."
   ]
  },
  {
   "cell_type": "code",
   "execution_count": 43,
   "metadata": {},
   "outputs": [
    {
     "name": "stdout",
     "output_type": "stream",
     "text": [
      "-1 2\n"
     ]
    }
   ],
   "source": [
    "a,b,c,d,e,f = map(int, input().split())\n",
    "\n",
    "try:\n",
    "    for i in range(-999, 1000):\n",
    "        for j in range(-999, 1000):\n",
    "            if a*i + b*j == c and d*i + e*j == f:\n",
    "                print(i, j)\n",
    "                raise Exception\n",
    "except:\n",
    "    pass"
   ]
  },
  {
   "attachments": {},
   "cell_type": "markdown",
   "metadata": {},
   "source": [
    "### Q. 25206\n",
    "인하대학교 컴퓨터공학과를 졸업하기 위해서는, 전공평점이 3.3 이상이거나 졸업고사를 통과해야 한다. 그런데 아뿔싸, 치훈이는 깜빡하고 졸업고사를 응시하지 않았다는 사실을 깨달았다!\n",
    "\n",
    "치훈이의 전공평점을 계산해주는 프로그램을 작성해보자.\n",
    "\n",
    "전공평점은 전공과목별 (학점 × 과목평점)의 합을 학점의 총합으로 나눈 값이다.\n",
    "\n",
    "인하대학교 컴퓨터공학과의 등급에 따른 과목평점은 다음 표와 같다.\n",
    "A+\t4.5\n",
    "A0\t4.0\n",
    "B+\t3.5\n",
    "B0\t3.0\n",
    "C+\t2.5\n",
    "C0\t2.0\n",
    "D+\t1.5\n",
    "D0\t1.0\n",
    "F\t0.0     P는 제외\n",
    "\n",
    "20줄에 걸쳐 치훈이가 수강한 전공과목의 과목명, 학점, 등급이 공백으로 구분되어 주어진다.\n",
    "치훈이의 전공평점을 출력한다. 정답과의 절대오차 또는 상대오차가 10^-4 이하이면 정답으로 인정한다."
   ]
  },
  {
   "cell_type": "code",
   "execution_count": 15,
   "metadata": {},
   "outputs": [
    {
     "name": "stdout",
     "output_type": "stream",
     "text": [
      "3.284483\n"
     ]
    }
   ],
   "source": [
    "subject = '''ObjectOrientedProgramming1 3.0 A+\n",
    "IntroductiontoComputerEngineering 3.0 A+\n",
    "ObjectOrientedProgramming2 3.0 A0\n",
    "CreativeComputerEngineeringDesign 3.0 A+\n",
    "AssemblyLanguage 3.0 A+\n",
    "InternetProgramming 3.0 B0\n",
    "ApplicationProgramminginJava 3.0 A0\n",
    "SystemProgramming 3.0 B0\n",
    "OperatingSystem 3.0 B0\n",
    "WirelessCommunicationsandNetworking 3.0 C+\n",
    "LogicCircuits 3.0 B0\n",
    "DataStructure 4.0 A+\n",
    "MicroprocessorApplication 3.0 B+\n",
    "EmbeddedSoftware 3.0 C0\n",
    "ComputerSecurity 3.0 D+\n",
    "Database 3.0 C+\n",
    "Algorithm 3.0 B0\n",
    "CapstoneDesigninCSE 3.0 B+\n",
    "CompilerDesign 3.0 D0\n",
    "ProblemSolving 4.0 P'''.split('\\n')\n",
    "\n",
    "\n",
    "new_sub = []\n",
    "for i in range(len(subject)):\n",
    "    new_sub += [subject[i].split()]\n",
    "\n",
    "for i in range(len(subject)):\n",
    "    if new_sub[i][2] == 'P':\n",
    "        del new_sub[i]\n",
    "\n",
    "for i in range(len(new_sub)):\n",
    "    new_sub[i][2] = new_sub[i][2].replace('A+', '4.5').replace('A0', '4.0').replace('B+', '3.5').replace('B0', '3.0').replace('C+', '2.5').replace('C0', '2.0')\\\n",
    "    .replace('D+', '1.5').replace('D0', '1.0').replace('A+', '1.0').replace('P', '0')\n",
    "\n",
    "hak_sum = 0\n",
    "for i in range(len(new_sub)):\n",
    "    hak_sum += float(new_sub[i][1])\n",
    "\n",
    "sum1 = []\n",
    "for i in range(len(new_sub)):\n",
    "    sum1.append(float(new_sub[i][1]) * float(new_sub[i][2]))\n",
    "\n",
    "your_avg = sum(sum1) / hak_sum\n",
    "\n",
    "print(f'{round(your_avg, 6)}')\n"
   ]
  }
 ],
 "metadata": {
  "kernelspec": {
   "display_name": "base",
   "language": "python",
   "name": "python3"
  },
  "language_info": {
   "codemirror_mode": {
    "name": "ipython",
    "version": 3
   },
   "file_extension": ".py",
   "mimetype": "text/x-python",
   "name": "python",
   "nbconvert_exporter": "python",
   "pygments_lexer": "ipython3",
   "version": "3.10.10"
  },
  "orig_nbformat": 4
 },
 "nbformat": 4,
 "nbformat_minor": 2
}
