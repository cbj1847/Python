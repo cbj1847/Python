{
 "cells": [
  {
   "attachments": {},
   "cell_type": "markdown",
   "metadata": {},
   "source": [
    "# 5-1. 함수 기본"
   ]
  },
  {
   "cell_type": "code",
   "execution_count": 2,
   "metadata": {},
   "outputs": [
    {
     "name": "stdout",
     "output_type": "stream",
     "text": [
      "안녕하세요\n",
      "안녕하세요\n",
      "안녕하세요\n"
     ]
    }
   ],
   "source": [
    "def print_3times():\n",
    "    for i in range(3):\n",
    "        print(\"안녕하세요\")\n",
    "\n",
    "print_3times()      # 함수의 호출line이 선언line 보다 앞서면 동작X, 호이스팅과 연관 js는 걍 가능"
   ]
  },
  {
   "attachments": {},
   "cell_type": "markdown",
   "metadata": {},
   "source": [
    "- 매개변수"
   ]
  },
  {
   "cell_type": "code",
   "execution_count": 4,
   "metadata": {},
   "outputs": [
    {
     "name": "stdout",
     "output_type": "stream",
     "text": [
      "Hello World!\n",
      "Hello World!\n",
      "Hello World!\n"
     ]
    }
   ],
   "source": [
    "def print_ntimes(msg, n):\n",
    "    for _ in range(n):\n",
    "        print(msg)\n",
    "print_ntimes('Hello World!', 3)"
   ]
  },
  {
   "attachments": {},
   "cell_type": "markdown",
   "metadata": {},
   "source": [
    "- 가변 매개변수"
   ]
  },
  {
   "cell_type": "code",
   "execution_count": 5,
   "metadata": {},
   "outputs": [
    {
     "name": "stdout",
     "output_type": "stream",
     "text": [
      "Hello\n",
      "World\n",
      "!!!\n",
      "\n",
      "Hello\n",
      "World\n",
      "!!!\n",
      "\n",
      "Hello\n",
      "World\n",
      "!!!\n",
      "\n"
     ]
    }
   ],
   "source": [
    "def print_nntimes(n, *values):       # *values = 가변매개변수\n",
    "    for _ in range(n):\n",
    "        for value in values:\n",
    "            print(value)             # 가변 매개변수로 전달된 내용 출력\n",
    "        print()                      # 줄바꿈\n",
    "print_nntimes(3, 'Hello', 'World', '!!!')"
   ]
  },
  {
   "attachments": {},
   "cell_type": "markdown",
   "metadata": {},
   "source": [
    "- 기본 매개변수"
   ]
  },
  {
   "cell_type": "code",
   "execution_count": 9,
   "metadata": {},
   "outputs": [
    {
     "name": "stdout",
     "output_type": "stream",
     "text": [
      "Hello\n",
      "World\n",
      "!!!\n",
      "2\n",
      "\n",
      "Hello\n",
      "World\n",
      "!!!\n",
      "2\n",
      "\n",
      "Hello\n",
      "World\n",
      "!!!\n",
      "2\n",
      "\n",
      "hello\n",
      "world\n",
      "\n",
      "hello\n",
      "world\n",
      "\n"
     ]
    }
   ],
   "source": [
    "def print_nnntimes(*values, n=3):       # *values = 가변매개변수\n",
    "    for _ in range(n):\n",
    "        for value in values:\n",
    "            print(value)             # 가변 매개변수로 전달된 내용 출력\n",
    "        print()                      # 줄바꿈\n",
    "print_nnntimes('Hello', 'World', '!!!', 2)\n",
    "# 키워드 매개변수\n",
    "print_nnntimes('hello', 'world', n=2)"
   ]
  },
  {
   "cell_type": "code",
   "execution_count": 10,
   "metadata": {},
   "outputs": [
    {
     "name": "stdout",
     "output_type": "stream",
     "text": [
      "60\n"
     ]
    }
   ],
   "source": [
    "def test(a, b=10, c=100):\n",
    "    print(a+b+c)\n",
    "test(10, 20, 30)        # a가 가변 매개변수가 아니므로 20, 30의 값이 b,c로 전달됨"
   ]
  },
  {
   "cell_type": "code",
   "execution_count": 11,
   "metadata": {},
   "outputs": [
    {
     "name": "stdout",
     "output_type": "stream",
     "text": [
      "310\n"
     ]
    }
   ],
   "source": [
    "test(a=10, b=100, c=200)    # 위치 매개변수도 키워드 매개변수같이 사용해도 됨"
   ]
  },
  {
   "cell_type": "code",
   "execution_count": 12,
   "metadata": {},
   "outputs": [
    {
     "name": "stdout",
     "output_type": "stream",
     "text": [
      "310\n"
     ]
    }
   ],
   "source": [
    "test(c=200, a=10, b=100)    #  키워드 매개변수는 순서 상관X"
   ]
  },
  {
   "cell_type": "code",
   "execution_count": 13,
   "metadata": {},
   "outputs": [
    {
     "name": "stdout",
     "output_type": "stream",
     "text": [
      "230\n"
     ]
    }
   ],
   "source": [
    "test(20, c=200)             # 일부만 전달 가능"
   ]
  },
  {
   "attachments": {},
   "cell_type": "markdown",
   "metadata": {},
   "source": [
    "- 매개변수\n",
    "    - 위치 매개변수(positional argument)\n",
    "    - 가변 매개변수(variable positional argument)\n",
    "    - 키워드 매개변수(keyword argument)\n",
    "    - 가변 키워드 매개변수(variable keyword argument)"
   ]
  },
  {
   "attachments": {},
   "cell_type": "markdown",
   "metadata": {},
   "source": [
    "- 반환(return)"
   ]
  },
  {
   "cell_type": "code",
   "execution_count": 14,
   "metadata": {},
   "outputs": [
    {
     "name": "stdout",
     "output_type": "stream",
     "text": [
      "hello\n"
     ]
    }
   ],
   "source": [
    "value = input()\n",
    "print(value)"
   ]
  },
  {
   "cell_type": "code",
   "execution_count": 15,
   "metadata": {},
   "outputs": [
    {
     "name": "stdout",
     "output_type": "stream",
     "text": [
      "hello\n"
     ]
    }
   ],
   "source": [
    "def return_test():\n",
    "    print('hello')\n",
    "    return              # 호출된 곳으로 반환\n",
    "    print('World')      # 절대 실행될수 없는 코드(unreachable code)\n",
    "return_test()"
   ]
  },
  {
   "cell_type": "code",
   "execution_count": 18,
   "metadata": {},
   "outputs": [
    {
     "name": "stdout",
     "output_type": "stream",
     "text": [
      "Hello\n"
     ]
    }
   ],
   "source": [
    "def return_test2():\n",
    "    return 'Hello'\n",
    "val = return_test2()\n",
    "print(val)"
   ]
  },
  {
   "cell_type": "code",
   "execution_count": 19,
   "metadata": {},
   "outputs": [
    {
     "name": "stdout",
     "output_type": "stream",
     "text": [
      "hello\n",
      "None\n"
     ]
    }
   ],
   "source": [
    "val = return_test()\n",
    "print(val)"
   ]
  },
  {
   "attachments": {},
   "cell_type": "markdown",
   "metadata": {},
   "source": [
    "- 여러개의 값 반환"
   ]
  },
  {
   "cell_type": "code",
   "execution_count": 20,
   "metadata": {},
   "outputs": [
    {
     "name": "stdout",
     "output_type": "stream",
     "text": [
      "10 20 30\n"
     ]
    }
   ],
   "source": [
    "def return_test_multi():\n",
    "    return 10, 20, 30\n",
    "a, b, c = return_test_multi()\n",
    "print(a,b,c)"
   ]
  },
  {
   "attachments": {},
   "cell_type": "markdown",
   "metadata": {},
   "source": [
    "- 사례"
   ]
  },
  {
   "cell_type": "code",
   "execution_count": 24,
   "metadata": {},
   "outputs": [
    {
     "data": {
      "text/plain": [
       "5050"
      ]
     },
     "execution_count": 24,
     "metadata": {},
     "output_type": "execute_result"
    }
   ],
   "source": [
    "# 범위를 매개변수로 받아 범위 내부의 정수를 모두 더하는 함수\n",
    "def sumall(start, end):\n",
    "    \"\"\"sum = []\n",
    "     for i in range(start, end+1):\n",
    "        sum += i \"\"\"\n",
    "    return sum([i for i in range(start, end+1)])\n",
    "\n",
    "sumall(1, 100)"
   ]
  },
  {
   "cell_type": "code",
   "execution_count": 29,
   "metadata": {},
   "outputs": [
    {
     "data": {
      "text/plain": [
       "2550"
      ]
     },
     "execution_count": 29,
     "metadata": {},
     "output_type": "execute_result"
    }
   ],
   "source": [
    "# 범위를 매개변수로 받아 범위 내부의 짝수를 모두 더하는 함수\n",
    "def sum_even(start, end):\n",
    "    \"\"\" sum=0\n",
    "    for i in range(start, end+1):\n",
    "        if i%2 == 0:\n",
    "            sum += i\n",
    "    return sum \"\"\"\n",
    "    return sum([i for i in range(start, end+1) if i % 2 == 0])\n",
    "sum_even(1, 100)"
   ]
  },
  {
   "cell_type": "code",
   "execution_count": 31,
   "metadata": {},
   "outputs": [
    {
     "data": {
      "text/plain": [
       "('짝수의합:', 2550, '홀수의합:', 2500)"
      ]
     },
     "execution_count": 31,
     "metadata": {},
     "output_type": "execute_result"
    }
   ],
   "source": [
    "# 범위를 매개변수로 받아 범위 내부의 홀수의 합과 짝수의 합을 반환하는 함수\n",
    "def even_odd(start, end):\n",
    "    even_sum = 0\n",
    "    odd_sum = 0\n",
    "    for i in range(start, end+1):\n",
    "        if i%2 == 0:\n",
    "            even_sum += i\n",
    "        else:\n",
    "            odd_sum += i\n",
    "    return '짝수의합:', even_sum, '홀수의합:', odd_sum\n",
    "even_odd(1, 100)"
   ]
  },
  {
   "attachments": {},
   "cell_type": "markdown",
   "metadata": {},
   "source": [
    "- 어떤 수의 약수의 합을 반환하는 함수"
   ]
  },
  {
   "cell_type": "code",
   "execution_count": 36,
   "metadata": {},
   "outputs": [
    {
     "data": {
      "text/plain": [
       "56"
      ]
     },
     "execution_count": 36,
     "metadata": {},
     "output_type": "execute_result"
    }
   ],
   "source": [
    "def sum_divisors(num):\n",
    "    \"\"\" sum = 0\n",
    "    for i in range(1, num+1):\n",
    "        if (num % i) == 0:\n",
    "            sum += i\n",
    "    return sum \"\"\"\n",
    "\n",
    "    return sum([i for i in range(1, num + 1) if num % i == 0])\n",
    "sum_divisors(28)    "
   ]
  },
  {
   "attachments": {},
   "cell_type": "markdown",
   "metadata": {},
   "source": [
    "- 어떤 수가 대칭수인지 확인하는 함수"
   ]
  },
  {
   "cell_type": "code",
   "execution_count": 2,
   "metadata": {},
   "outputs": [
    {
     "data": {
      "text/plain": [
       "True"
      ]
     },
     "execution_count": 2,
     "metadata": {},
     "output_type": "execute_result"
    }
   ],
   "source": [
    "def is_palindrome(num):\n",
    "    return str(num) == str(num)[::-1]\n",
    "    \"\"\" num_str = str(num)\n",
    "    if len(num_str) % 2 == 0:\n",
    "        for i in range(len(num_str)//2):\n",
    "            return num_str[i] == num_str[-i]\n",
    "    else:\n",
    "        for i in range((len(num_str)-1)//2):\n",
    "            return num_str[i] == num_str[-i] \"\"\"\n",
    "\n",
    "is_palindrome(12321)"
   ]
  },
  {
   "attachments": {},
   "cell_type": "markdown",
   "metadata": {},
   "source": [
    "- 세자리 수 두개를 곱한 결과가 대칭수일 때 가장 큰 대칭 수 구하기"
   ]
  },
  {
   "cell_type": "code",
   "execution_count": 12,
   "metadata": {},
   "outputs": [
    {
     "data": {
      "text/plain": [
       "906609"
      ]
     },
     "execution_count": 12,
     "metadata": {},
     "output_type": "execute_result"
    }
   ],
   "source": [
    "values = []\n",
    "for i in range(100, 1000):\n",
    "    for j in range(100, 1000):\n",
    "        if is_palindrome(i*j):\n",
    "            values.append(i*j)\n",
    "max(values)"
   ]
  },
  {
   "cell_type": "code",
   "execution_count": null,
   "metadata": {},
   "outputs": [],
   "source": []
  }
 ],
 "metadata": {
  "kernelspec": {
   "display_name": "base",
   "language": "python",
   "name": "python3"
  },
  "language_info": {
   "codemirror_mode": {
    "name": "ipython",
    "version": 3
   },
   "file_extension": ".py",
   "mimetype": "text/x-python",
   "name": "python",
   "nbconvert_exporter": "python",
   "pygments_lexer": "ipython3",
   "version": "3.10.9"
  },
  "orig_nbformat": 4
 },
 "nbformat": 4,
 "nbformat_minor": 2
}
