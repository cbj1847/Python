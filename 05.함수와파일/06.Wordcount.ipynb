{
 "cells": [
  {
   "attachments": {},
   "cell_type": "markdown",
   "metadata": {},
   "source": [
    "## 도전 문제: 파일의 단어 갯수 세기\n",
    "- 총 단어수\n",
    "- 고유 단어수\n",
    "- 가장 많이 사용된 단어 10개"
   ]
  },
  {
   "cell_type": "code",
   "execution_count": 2,
   "metadata": {},
   "outputs": [],
   "source": [
    "with open('data/lorem.txt', 'r')as file:\n",
    "    lorem = file.read()"
   ]
  },
  {
   "cell_type": "code",
   "execution_count": 3,
   "metadata": {},
   "outputs": [
    {
     "name": "stdout",
     "output_type": "stream",
     "text": [
      "문단 내 단어수 : 511\n",
      "고유단어수 : 256\n",
      "가장 많이 사용된 단어 10개 : [('the', 28), ('of', 21), ('lorem', 19), ('ipsum', 19), ('a', 15), ('it', 11), ('and', 10), ('in', 10), ('is', 8), ('from', 8)]\n"
     ]
    }
   ],
   "source": [
    "import re, string\n",
    "clean_lorem = re.sub('['+string.punctuation+']', '', lorem).lower()\n",
    "# 아래랑 위랑 같음 (특문제거)\n",
    "\"\"\" lower_lorem = lorem.lower().replace('.', '').replace(',', '')\\\n",
    "                .replace('/', '').replace('\"', '').replace('(', '').replace(')', '').replace(\"'\", '').replace('?', '').replace('-', '') \"\"\"\n",
    "\n",
    "lorem_words = clean_lorem.split()\n",
    "dic = {}\n",
    "for word in lorem_words:\n",
    "    if word in dic.keys():\n",
    "        dic[word] += 1\n",
    "    else:\n",
    "        dic[word] = 1\n",
    "\n",
    "number_of_word = 0\n",
    "for value in dic.values():\n",
    "    number_of_word += value\n",
    "\n",
    "number_of_unique_word = len(dic)\n",
    "descending_data = sorted(dic.items(), key=lambda x: x[1], reverse=True)[:10]\n",
    "\n",
    "print(f'문단 내 단어수 : {number_of_word}\\n고유단어수 : {number_of_unique_word}\\n가장 많이 사용된 단어 10개 : {descending_data}')"
   ]
  },
  {
   "cell_type": "code",
   "execution_count": null,
   "metadata": {},
   "outputs": [],
   "source": []
  }
 ],
 "metadata": {
  "kernelspec": {
   "display_name": "base",
   "language": "python",
   "name": "python3"
  },
  "language_info": {
   "codemirror_mode": {
    "name": "ipython",
    "version": 3
   },
   "file_extension": ".py",
   "mimetype": "text/x-python",
   "name": "python",
   "nbconvert_exporter": "python",
   "pygments_lexer": "ipython3",
   "version": "3.10.10"
  },
  "orig_nbformat": 4
 },
 "nbformat": 4,
 "nbformat_minor": 2
}
