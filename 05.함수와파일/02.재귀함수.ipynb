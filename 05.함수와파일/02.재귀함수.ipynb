{
 "cells": [
  {
   "attachments": {},
   "cell_type": "markdown",
   "metadata": {},
   "source": [
    "### 5-2. 재귀함수 (recursive function)"
   ]
  },
  {
   "cell_type": "code",
   "execution_count": 1,
   "metadata": {},
   "outputs": [],
   "source": [
    "def facto(num):\n",
    "    if num == 0:\n",
    "        return 1\n",
    "    return num * facto(num - 1)"
   ]
  },
  {
   "cell_type": "code",
   "execution_count": 2,
   "metadata": {},
   "outputs": [
    {
     "data": {
      "text/plain": [
       "6"
      ]
     },
     "execution_count": 2,
     "metadata": {},
     "output_type": "execute_result"
    }
   ],
   "source": [
    "facto(3)"
   ]
  },
  {
   "cell_type": "code",
   "execution_count": 4,
   "metadata": {},
   "outputs": [
    {
     "name": "stdout",
     "output_type": "stream",
     "text": [
      "0 - 1\n",
      "1 - 1\n",
      "2 - 2\n",
      "3 - 3\n",
      "4 - 5\n",
      "5 - 8\n",
      "6 - 13\n",
      "7 - 21\n",
      "8 - 34\n",
      "9 - 55\n",
      "10 - 89\n"
     ]
    }
   ],
   "source": [
    "def fibo(a):\n",
    "    if a == 1 or a == 0:\n",
    "        return 1\n",
    "    return fibo(a-1) + fibo(a-2)\n",
    "\n",
    "for i in range(11):\n",
    "    print(i, '-', fibo(i))\n",
    "    "
   ]
  },
  {
   "cell_type": "code",
   "execution_count": null,
   "metadata": {},
   "outputs": [],
   "source": []
  }
 ],
 "metadata": {
  "kernelspec": {
   "display_name": "base",
   "language": "python",
   "name": "python3"
  },
  "language_info": {
   "codemirror_mode": {
    "name": "ipython",
    "version": 3
   },
   "file_extension": ".py",
   "mimetype": "text/x-python",
   "name": "python",
   "nbconvert_exporter": "python",
   "pygments_lexer": "ipython3",
   "version": "3.10.9"
  },
  "orig_nbformat": 4
 },
 "nbformat": 4,
 "nbformat_minor": 2
}
