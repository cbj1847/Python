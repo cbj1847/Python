{
 "cells": [
  {
   "attachments": {},
   "cell_type": "markdown",
   "metadata": {},
   "source": [
    "### tkinter"
   ]
  },
  {
   "cell_type": "code",
   "execution_count": null,
   "metadata": {},
   "outputs": [],
   "source": [
    "from tkinter import *\n",
    "win = Tk()      # 창 생성\n",
    "\n",
    "win.geometry('1000x500')\n",
    "win.title('temp')\n",
    "win.option_add('*Font', '맑은고딕 25')\n",
    "\n",
    "btn = Button(win, text='버튼')\n",
    "btn.config(width=20, height=20)\n",
    "btn.pack()\n",
    "\n",
    "win.mainloop()      # 창실행"
   ]
  },
  {
   "cell_type": "code",
   "execution_count": null,
   "metadata": {},
   "outputs": [],
   "source": [
    "from tkinter import *\n",
    "\n",
    "def sorting():\n",
    "    words = input().split()\n",
    "    s_words = set(words)\n",
    "    l_words = [s_words]\n",
    "\n",
    "    if len(s_words) < 20000:\n",
    "        len_dict = {}\n",
    "        # words 입력순으로 모든 word의 길이 key : 빈리스트value 생성\n",
    "        for word in l_words:\n",
    "            if len(word) > 50:\n",
    "                print('단어의 길이를 확인해 주세요')\n",
    "            else:\n",
    "                len_dict[len(word)] = []\n",
    "\n",
    "        # len_dict의 key에 value append\n",
    "        for key in len_dict:\n",
    "            for word in l_words:\n",
    "                if len(word) == key:\n",
    "                    len_dict[key].append(word)\n",
    "\n",
    "        # 딕셔너리 키값 사전순 정렬\n",
    "        d2 = sorted(len_dict.items())\n",
    "\n",
    "        # 딕셔너리 밸류값 사전순 정렬\n",
    "        for list in d2:\n",
    "            list[1].sort()\n",
    "\n",
    "        # 최종적으로 하나의 리스트안에 정렬한 값들 키값 순으로 더하기\n",
    "        d3 = []\n",
    "        for list in d2:\n",
    "            d3 += list[1]\n",
    "\n",
    "        print('단어의 갯수 : (1 ≤ N ≤ 20,000), string의 길이 < 50')\n",
    "        print(d3)\n",
    "        btn.config(text = d3)\n",
    "    else:\n",
    "        print('단어의 갯수는 20000개보다 적어야 합니다.')\n",
    "\n",
    "win = Tk()\n",
    "win.geometry ('300x100')\n",
    "win.title(' What time?')\n",
    "win.option_add('*Font', '궁서 20')\n",
    "\n",
    "btn = Button(win)\n",
    "btn.config(text = '단어 입력')\n",
    "btn.config(width = 10)\n",
    "btn.config(command = sorting)\n",
    "\n",
    "btn.pack()\n",
    "\n",
    "win.mainloop()"
   ]
  }
 ],
 "metadata": {
  "kernelspec": {
   "display_name": "base",
   "language": "python",
   "name": "python3"
  },
  "language_info": {
   "codemirror_mode": {
    "name": "ipython",
    "version": 3
   },
   "file_extension": ".py",
   "mimetype": "text/x-python",
   "name": "python",
   "nbconvert_exporter": "python",
   "pygments_lexer": "ipython3",
   "version": "3.10.10"
  },
  "orig_nbformat": 4
 },
 "nbformat": 4,
 "nbformat_minor": 2
}
