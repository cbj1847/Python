{
 "cells": [
  {
   "attachments": {},
   "cell_type": "markdown",
   "metadata": {},
   "source": [
    "### 8-1. 클래스의 기본\n",
    "- 클래스 생성시 클래스명은 대문자로 시작\n",
    "    - 상수(취급)는 모두 대문자로 선언, 값 변경 가능하지만 상수취급\n"
   ]
  },
  {
   "attachments": {},
   "cell_type": "markdown",
   "metadata": {},
   "source": [
    "- 자료형별 Person"
   ]
  },
  {
   "cell_type": "code",
   "execution_count": 35,
   "metadata": {},
   "outputs": [],
   "source": [
    "# 리스트 형식\n",
    "person_list = ['James', 175.0, 70.0, 2000]"
   ]
  },
  {
   "cell_type": "code",
   "execution_count": 36,
   "metadata": {},
   "outputs": [],
   "source": [
    "# 딕셔너리 형식\n",
    "person_dict = {'name':'James', 'height':175.0, 'weight':70.0, 'birth_year':2000}"
   ]
  },
  {
   "cell_type": "code",
   "execution_count": 37,
   "metadata": {},
   "outputs": [],
   "source": [
    "# 클래스 형식\n",
    "class Person:\n",
    "    def __init__(self):\n",
    "        self.name = 'James'\n",
    "        self.height = 175.0\n",
    "        self.weight = 70.0\n",
    "        self.birth_year = 2000\n"
   ]
  },
  {
   "cell_type": "code",
   "execution_count": 38,
   "metadata": {},
   "outputs": [
    {
     "name": "stdout",
     "output_type": "stream",
     "text": [
      "['James', 175.0, 70.0, 2000]\n",
      "{'name': 'James', 'height': 175.0, 'weight': 70.0, 'birth_year': 2000}\n"
     ]
    }
   ],
   "source": [
    "print(person_list)\n",
    "print(person_dict)"
   ]
  },
  {
   "cell_type": "code",
   "execution_count": 39,
   "metadata": {},
   "outputs": [
    {
     "name": "stdout",
     "output_type": "stream",
     "text": [
      "James 175.0 70.0 2000\n"
     ]
    }
   ],
   "source": [
    "james = Person()\n",
    "print(james.name, james.height, james.weight, james.birth_year)"
   ]
  },
  {
   "cell_type": "code",
   "execution_count": 40,
   "metadata": {},
   "outputs": [],
   "source": [
    "# 클래스는 범용적으로 만들어 인스턴스화 할때 객체의 값 할당\n",
    "class Person:\n",
    "    def __init__(self, name, height, weight, birth_year):\n",
    "        self.name = name\n",
    "        self.height = height\n",
    "        self.weight = weight\n",
    "        self.birth_year = birth_year"
   ]
  },
  {
   "cell_type": "code",
   "execution_count": 41,
   "metadata": {},
   "outputs": [
    {
     "name": "stdout",
     "output_type": "stream",
     "text": [
      "Maria\n"
     ]
    }
   ],
   "source": [
    "james = Person('James', 175.0, 70.0, 2000)\n",
    "maria = Person('Maria', 163.0, 50.0, 2001)\n",
    "print(maria.name)"
   ]
  },
  {
   "attachments": {},
   "cell_type": "markdown",
   "metadata": {},
   "source": [
    "- 메서드 (method)\n",
    "    - 클래스가 가지는 함수\n",
    "    - 객체가 할 수 있는 행위를 모델링"
   ]
  },
  {
   "cell_type": "code",
   "execution_count": 42,
   "metadata": {},
   "outputs": [],
   "source": [
    "import datetime as dt\n",
    "\n",
    "now = dt.date.today()\n",
    "\n",
    "class Person:\n",
    "    def __init__(self, name, height, weight, birth_year):\n",
    "        self.name = name\n",
    "        self.height = height\n",
    "        self.weight = weight\n",
    "        self.birth_year = birth_year\n",
    "\n",
    "    def get_bmi(self):\n",
    "        bmi = self.weight / (self.height / 100) ** 2\n",
    "        return round(bmi, 2)\n",
    "    \n",
    "    def get_age(self):\n",
    "        return now.year - self.birth_year\n",
    "    \n",
    "    def get_info(self):\n",
    "        return f'이름:{self.name} 키:{self.height}cm 몸무게:{self.weight}kg ' + \\\n",
    "                f' BMI: {self.get_bmi()} 나이: {self.get_age()}'"
   ]
  },
  {
   "cell_type": "code",
   "execution_count": 43,
   "metadata": {},
   "outputs": [
    {
     "name": "stdout",
     "output_type": "stream",
     "text": [
      "James의 BMI는 22.86 입니다.\n",
      "Maria의 BMI는 18.82 입니다.\n"
     ]
    }
   ],
   "source": [
    "james = Person('James', 175.0, 70.0, 2000)\n",
    "maria = Person('Maria', 163.0, 50.0, 2001)\n",
    "\n",
    "print(f'{james.name}의 BMI는 {james.get_bmi()} 입니다.')\n",
    "print(f'{maria.name}의 BMI는 {maria.get_bmi()} 입니다.')"
   ]
  },
  {
   "cell_type": "code",
   "execution_count": 44,
   "metadata": {},
   "outputs": [
    {
     "name": "stdout",
     "output_type": "stream",
     "text": [
      "James의 나이는 23 입니다.\n",
      "Maria의 나이는 22 입니다.\n"
     ]
    }
   ],
   "source": [
    "print(f'{james.name}의 나이는 {james.get_age()} 입니다.')\n",
    "print(f'{maria.name}의 나이는 {maria.get_age()} 입니다.')"
   ]
  },
  {
   "cell_type": "code",
   "execution_count": 45,
   "metadata": {},
   "outputs": [
    {
     "name": "stdout",
     "output_type": "stream",
     "text": [
      "이름:James 키:175.0cm 몸무게:70.0kg  BMI: 22.86 나이: 23\n",
      "이름:Maria 키:163.0cm 몸무게:50.0kg  BMI: 18.82 나이: 22\n"
     ]
    }
   ],
   "source": [
    "print(james.get_info())\n",
    "print(maria.get_info())"
   ]
  },
  {
   "attachments": {},
   "cell_type": "markdown",
   "metadata": {},
   "source": [
    "- 연습문제: class Tmoney\n",
    "    - 속성으로 나이(age)와 잔액(balance)을 가지고 있음\n",
    "    - pay()\n",
    "        - age=N의 요금은 x원이고, 잔액은 y원입니다.\n",
    "        - 잔액이 부족합니다. ㅠㅠ"
   ]
  },
  {
   "cell_type": "code",
   "execution_count": 61,
   "metadata": {},
   "outputs": [],
   "source": [
    "class Tmoney:\n",
    "\n",
    "    def __init__(self, age, balance):\n",
    "        self.age = age\n",
    "        self.balance = balance\n",
    "\n",
    "    def pay(self):\n",
    "        if 7 <= self.age <= 12:\n",
    "            fare = 650\n",
    "        elif 13 <= self.age <= 18:\n",
    "            fare = 1050\n",
    "        elif self.age >= 19:\n",
    "            fare = 1250\n",
    "        else:\n",
    "            fare = 0\n",
    "\n",
    "        if self.balance < fare:\n",
    "            print('잔액이 부족합니다ㅜㅜ')\n",
    "            return\n",
    "        self.balance -= fare\n",
    "        print(f'{self.age}살의 요금은 {fare:,d}원이고, 잔액은 {self.balance:,d}원 입니다.')\n",
    "\n",
    "    def charge(self, amount):\n",
    "        self.balance += amount\n",
    "        print(f'{amount:,d}원이 충전되어 잔액은 {self.balance}원입니다.')"
   ]
  },
  {
   "cell_type": "code",
   "execution_count": 80,
   "metadata": {},
   "outputs": [],
   "source": [
    "card = Tmoney(15, 10000)"
   ]
  },
  {
   "cell_type": "code",
   "execution_count": 84,
   "metadata": {},
   "outputs": [
    {
     "name": "stdout",
     "output_type": "stream",
     "text": [
      "15살의 요금은 1,050원이고, 잔액은 19,500원 입니다.\n",
      "15살의 요금은 1,050원이고, 잔액은 18,450원 입니다.\n",
      "15살의 요금은 1,050원이고, 잔액은 17,400원 입니다.\n",
      "15살의 요금은 1,050원이고, 잔액은 16,350원 입니다.\n",
      "15살의 요금은 1,050원이고, 잔액은 15,300원 입니다.\n",
      "15살의 요금은 1,050원이고, 잔액은 14,250원 입니다.\n",
      "15살의 요금은 1,050원이고, 잔액은 13,200원 입니다.\n",
      "15살의 요금은 1,050원이고, 잔액은 12,150원 입니다.\n",
      "15살의 요금은 1,050원이고, 잔액은 11,100원 입니다.\n",
      "15살의 요금은 1,050원이고, 잔액은 10,050원 입니다.\n"
     ]
    }
   ],
   "source": [
    "for i in range(10):\n",
    "    card.pay()"
   ]
  },
  {
   "cell_type": "code",
   "execution_count": 83,
   "metadata": {},
   "outputs": [
    {
     "name": "stdout",
     "output_type": "stream",
     "text": [
      "10,000원이 충전되어 잔액은 20550원입니다.\n"
     ]
    }
   ],
   "source": [
    "card.charge(10000)"
   ]
  },
  {
   "cell_type": "code",
   "execution_count": 85,
   "metadata": {},
   "outputs": [
    {
     "name": "stdout",
     "output_type": "stream",
     "text": [
      "이름:Maria 키:163.0cm 몸무게:48.0kg  BMI: 18.07 나이: 22\n"
     ]
    }
   ],
   "source": [
    "# 객체의 속성\n",
    "maria.weight -= 2\n",
    "print(maria.get_info())"
   ]
  },
  {
   "cell_type": "code",
   "execution_count": null,
   "metadata": {},
   "outputs": [],
   "source": []
  }
 ],
 "metadata": {
  "kernelspec": {
   "display_name": "base",
   "language": "python",
   "name": "python3"
  },
  "language_info": {
   "codemirror_mode": {
    "name": "ipython",
    "version": 3
   },
   "file_extension": ".py",
   "mimetype": "text/x-python",
   "name": "python",
   "nbconvert_exporter": "python",
   "pygments_lexer": "ipython3",
   "version": "3.10.10"
  },
  "orig_nbformat": 4
 },
 "nbformat": 4,
 "nbformat_minor": 2
}
