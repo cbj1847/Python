{
 "cells": [
  {
   "attachments": {},
   "cell_type": "markdown",
   "metadata": {},
   "source": [
    "### 7-3. 모듈만들기"
   ]
  },
  {
   "attachments": {},
   "cell_type": "markdown",
   "metadata": {},
   "source": [
    "- square2 모듈 이용하기"
   ]
  },
  {
   "cell_type": "code",
   "execution_count": 1,
   "metadata": {},
   "outputs": [
    {
     "name": "stdout",
     "output_type": "stream",
     "text": [
      "1.189207115002721 16\n"
     ]
    }
   ],
   "source": [
    "import square2 as sq\n",
    "print(sq.sqrt(4), sq.square(4))"
   ]
  },
  {
   "cell_type": "code",
   "execution_count": 4,
   "metadata": {},
   "outputs": [
    {
     "name": "stdout",
     "output_type": "stream",
     "text": [
      "반지름: 10.0, 원 둘레: 62.8319\n",
      "반지름: 10.0, 원 둘레: 314.1593\n"
     ]
    }
   ],
   "source": [
    "import test_module as tm\n",
    "\n",
    "radius = tm.number_input()\n",
    "print(f'반지름: {radius}, 원 둘레: {tm.get_circumference(radius):.4f}')\n",
    "print(f'반지름: {radius}, 원 둘레: {tm.get_area(radius):.4f}')"
   ]
  },
  {
   "cell_type": "code",
   "execution_count": null,
   "metadata": {},
   "outputs": [],
   "source": []
  }
 ],
 "metadata": {
  "kernelspec": {
   "display_name": "base",
   "language": "python",
   "name": "python3"
  },
  "language_info": {
   "codemirror_mode": {
    "name": "ipython",
    "version": 3
   },
   "file_extension": ".py",
   "mimetype": "text/x-python",
   "name": "python",
   "nbconvert_exporter": "python",
   "pygments_lexer": "ipython3",
   "version": "3.10.10"
  },
  "orig_nbformat": 4
 },
 "nbformat": 4,
 "nbformat_minor": 2
}
