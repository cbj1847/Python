{
 "cells": [
  {
   "cell_type": "code",
   "execution_count": 10,
   "metadata": {},
   "outputs": [
    {
     "name": "stdout",
     "output_type": "stream",
     "text": [
      "23 27\n"
     ]
    }
   ],
   "source": [
    "# Q1. 알람시계\n",
    "set_hour, set_time = map(int, input().split())\n",
    "if 0 <= set_hour <= 23 and 0 <= set_time < 45:\n",
    "    if(set_hour == 0):\n",
    "        hour = 23\n",
    "        time = set_time + 15\n",
    "        print(f'{hour} {time}')\n",
    "    else:\n",
    "        hour = set_hour - 1\n",
    "        time = set_time - 15\n",
    "        print(f'{hour} {time}')\n",
    "   \n",
    "elif 0 <= set_hour <= 23 and set_time >= 45:\n",
    "    time = set_time - 45\n",
    "    print(f'{set_hour} {time}')\n",
    "else:\n",
    "    print(f'{set_hour} {set_time}')"
   ]
  },
  {
   "cell_type": "code",
   "execution_count": 34,
   "metadata": {},
   "outputs": [
    {
     "name": "stdout",
     "output_type": "stream",
     "text": [
      "주사위:(6, 3, 6) 600원\n"
     ]
    }
   ],
   "source": [
    "# Q2. 주사위 세개\n",
    "import random\n",
    "dice1, dice2, dice3 = random.randint(1, 6), random.randint(1, 6), random.randint(1, 6)\n",
    "if dice1 == dice2 and dice2 == dice3:\n",
    "    print(f'주사위:{dice1, dice2, dice3} {10000 + dice1 * 1000}원')\n",
    "elif (dice1 == dice2) or (dice2 == dice3) or (dice1 == dice3):\n",
    "    print(f'주사위:{dice1, dice2, dice3} {1000 + dice2 * 100}원')\n",
    "else:\n",
    "    if dice1>dice2 and dice2 >dice3:\n",
    "        print(f'주사위:{dice1, dice2, dice3} {dice1*100}원')\n",
    "    elif dice2>dice1 and dice1>dice3:\n",
    "        print(f'주사위:{dice1, dice2, dice3} {dice2*100}원')\n",
    "    else:\n",
    "        print(f'주사위:{dice1, dice2, dice3} {dice3*100}원')"
   ]
  },
  {
   "cell_type": "code",
   "execution_count": 3,
   "metadata": {},
   "outputs": [
    {
     "name": "stdout",
     "output_type": "stream",
     "text": [
      "[6, 28]\n"
     ]
    },
    {
     "data": {
      "text/plain": [
       "40000"
      ]
     },
     "execution_count": 3,
     "metadata": {},
     "output_type": "execute_result"
    }
   ],
   "source": [
    "# Q3. 완전수 구하기\n",
    "range_num = int(input(\"정수 범위 입력: \"))\n",
    "result = []\n",
    "\n",
    "for i in range(1, range_num+1):\n",
    "    sum = 0\n",
    "    for j in range(1, i):\n",
    "        if i%j==0:  \n",
    "            sum += j\n",
    "\n",
    "    if i == sum: \n",
    "        result.append(i)\n",
    "        \n",
    "print(result)"
   ]
  },
  {
   "cell_type": "code",
   "execution_count": 5,
   "metadata": {},
   "outputs": [
    {
     "name": "stdout",
     "output_type": "stream",
     "text": [
      "변A:200 변B:375 변C:425\n"
     ]
    }
   ],
   "source": [
    "# Q4. 피타고라스 수\n",
    "for i in range(500):\n",
    "    for j in range(500):\n",
    "        for k in range(1000):\n",
    "            if i+j+k == 1000 and i<j<k and i**2 + j**2 == k**2:\n",
    "                print(f'변A:{i} 변B:{j} 변C:{k}')"
   ]
  }
 ],
 "metadata": {
  "kernelspec": {
   "display_name": "base",
   "language": "python",
   "name": "python3"
  },
  "language_info": {
   "codemirror_mode": {
    "name": "ipython",
    "version": 3
   },
   "file_extension": ".py",
   "mimetype": "text/x-python",
   "name": "python",
   "nbconvert_exporter": "python",
   "pygments_lexer": "ipython3",
   "version": "3.10.9"
  },
  "orig_nbformat": 4,
  "vscode": {
   "interpreter": {
    "hash": "01fab8bf5dedb2ca583118811a65e095f3c9faebd779a287975df83a79bd1dc0"
   }
  }
 },
 "nbformat": 4,
 "nbformat_minor": 2
}
