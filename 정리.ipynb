{
 "cells": [
  {
   "attachments": {},
   "cell_type": "markdown",
   "metadata": {},
   "source": [
    "# Tuple"
   ]
  },
  {
   "attachments": {},
   "cell_type": "markdown",
   "metadata": {},
   "source": [
    "- tuple = () : 생성 후 값 수정 불가\n",
    "\n",
    "- tuple unpacking : x, y, z = 10, 20, 30  -> 각 인자로 대응되는 값 언패킹"
   ]
  },
  {
   "cell_type": "code",
   "execution_count": 1,
   "metadata": {},
   "outputs": [
    {
     "data": {
      "text/plain": [
       "10"
      ]
     },
     "execution_count": 1,
     "metadata": {},
     "output_type": "execute_result"
    }
   ],
   "source": [
    "x, y, z = 10, 20, 30\n",
    "x"
   ]
  },
  {
   "attachments": {},
   "cell_type": "markdown",
   "metadata": {},
   "source": [
    "# list"
   ]
  },
  {
   "attachments": {},
   "cell_type": "markdown",
   "metadata": {},
   "source": [
    "- enumerate(list, tuple, dic ,,) : 값과 순서 반환\n",
    "\n",
    "- .sort / sorted() : 리스트 정렬 기본 오름차순 (reverse=True) : 내림차순\n",
    "    - sort : 리스트 클래스의 메서드 / sorted : iterable 객체를 파라미터로 받을 수 있음\n",
    "\n",
    "- .min(), .max(), .sum(), .count(‘str’) : str갯수 세기(일부포함X)\n",
    "\n",
    "- .reverse() , reversed() : reverse는 리스트에서만사용 값 반환 X, reverse = list[::-1]\n",
    "    - reversed는 모든 자료형에서 사용, 객체의 값 반환 O for문내에서 사용주의\n",
    "\n",
    "- 리스트 연산 a[] + b[] = c[] (하나로 합쳐짐) a[]*n는 n번 곱해 하나로 나옴\n",
    "\n",
    "- insert(index, val) : index에 val 삽입\n",
    "\n",
    "- 중복된 key값 사용 불가 , 오른쪽에 있는 키값이 대푯값이 됨\n",
    "\n",
    "- a.keys() : key 값만 모아서 출력 / a.values() : value 값만 모아 출력\n",
    "\n",
    "- a['key'] a.get('key') : key로 key에 대응되는 value를 출력\n",
    "\n",
    "- a.update({key1 : value1, key2 : value2}) : 기존값 수정 or 새로운 값 추가"
   ]
  },
  {
   "cell_type": "code",
   "execution_count": 3,
   "metadata": {},
   "outputs": [
    {
     "data": {
      "text/plain": [
       "{1: 'b'}"
      ]
     },
     "execution_count": 3,
     "metadata": {},
     "output_type": "execute_result"
    }
   ],
   "source": []
  },
  {
   "attachments": {},
   "cell_type": "markdown",
   "metadata": {},
   "source": [
    "# 반복문"
   ]
  },
  {
   "attachments": {},
   "cell_type": "markdown",
   "metadata": {},
   "source": [
    "- while (1) or while True : 무한루프"
   ]
  },
  {
   "attachments": {},
   "cell_type": "markdown",
   "metadata": {},
   "source": [
    "# string"
   ]
  },
  {
   "attachments": {},
   "cell_type": "markdown",
   "metadata": {},
   "source": [
    "- ‘’.join(s for s in str_list) : list를 ‘’내부의 문자열을 붙여 하나의 string으로 만듬\n",
    "\n",
    "- f’{:,d} : 1000단위로 쉼표 / {:.nf} : 소수점 밑으로 n자리 표현\n",
    "\n",
    "- .replace() : str.replace(old_str, new_str[, optional_max]) 문자열의 특정 문자열 찾아 대체\n",
    "\n",
    "- "
   ]
  },
  {
   "cell_type": "code",
   "execution_count": null,
   "metadata": {},
   "outputs": [],
   "source": []
  },
  {
   "attachments": {},
   "cell_type": "markdown",
   "metadata": {},
   "source": [
    "# dictionary"
   ]
  },
  {
   "attachments": {},
   "cell_type": "markdown",
   "metadata": {},
   "source": [
    "- dic[‘newkey’] = ‘new val’ : 기존 dic의 맨 뒤에 새로운 값 추가, 이미 있는 키면 값수정\n",
    "\n",
    "- del dic[‘key’] : ‘key’와 요소 삭제\n",
    "\n",
    "- dict.items() : dict 내부의 키 : 밸류 쌍 모두 반환\n",
    "    - items함수를 사용하면 딕셔너리의 값을 반복문을 사용해 키와 값을 접근하기가 매우 유용.\n",
    "    - for key, val in car.items():\n",
    "    -       print(\"key : {} value : {}\".format(key,val))"
   ]
  },
  {
   "cell_type": "code",
   "execution_count": 2,
   "metadata": {},
   "outputs": [
    {
     "data": {
      "text/plain": [
       "dict_items([('name', 'BMW'), ('price', '7000')])"
      ]
     },
     "execution_count": 2,
     "metadata": {},
     "output_type": "execute_result"
    }
   ],
   "source": [
    "car = {\"name\" : \"BMW\", \"price\" : \"7000\"}\n",
    "car.items()"
   ]
  },
  {
   "attachments": {},
   "cell_type": "markdown",
   "metadata": {},
   "source": [
    "# number"
   ]
  },
  {
   "attachments": {},
   "cell_type": "markdown",
   "metadata": {},
   "source": [
    "- abs(): 절댓값, round(): 반올림"
   ]
  },
  {
   "attachments": {},
   "cell_type": "markdown",
   "metadata": {},
   "source": [
    "# 함수"
   ]
  },
  {
   "attachments": {},
   "cell_type": "markdown",
   "metadata": {},
   "source": [
    "- 입력값이 여러개인 함수 : def func_name(*args): --> *args에 여러 인자를 받음, for 문으로 연산에 이용\n",
    "\n",
    "- return : 결과 반환 or 조건문 등에서 함수를 빠져 나갈 때도 사용\n",
    "\n",
    "- lambda함수 : lambda x,y,z ,,, : x,y,z,,,의 표현식"
   ]
  },
  {
   "cell_type": "code",
   "execution_count": 5,
   "metadata": {},
   "outputs": [
    {
     "data": {
      "text/plain": [
       "55"
      ]
     },
     "execution_count": 5,
     "metadata": {},
     "output_type": "execute_result"
    }
   ],
   "source": [
    "def add_many(*args):\n",
    "    result = 0\n",
    "    for i in args:\n",
    "        result = result + i\n",
    "    return result\n",
    "\n",
    "add_many(1,2,3,4,5,6,7,8,9,10)"
   ]
  },
  {
   "attachments": {},
   "cell_type": "markdown",
   "metadata": {},
   "source": [
    "# File"
   ]
  },
  {
   "attachments": {},
   "cell_type": "markdown",
   "metadata": {},
   "source": [
    "- open -> read/write/append -> close 의 과정\n",
    "\n",
    "- 파일 호출 :\n",
    "    1. file = open(), file.write(), file.close()\n",
    "    2. with open(dir, ‘’mode) as file:"
   ]
  },
  {
   "attachments": {},
   "cell_type": "markdown",
   "metadata": {},
   "source": [
    "# Module"
   ]
  },
  {
   "attachments": {},
   "cell_type": "markdown",
   "metadata": {},
   "source": [
    "- from ~ import : e.g. import math의 math를 from으로 불러와 sin,cos등을 넣으면 math.sin에서 math.생략 해 sin만 타이핑가능\n"
   ]
  },
  {
   "attachments": {},
   "cell_type": "markdown",
   "metadata": {},
   "source": [
    "# Class"
   ]
  },
  {
   "attachments": {},
   "cell_type": "markdown",
   "metadata": {},
   "source": [
    "- class 선언시 첫글자 대문자로"
   ]
  },
  {
   "cell_type": "code",
   "execution_count": null,
   "metadata": {},
   "outputs": [],
   "source": []
  }
 ],
 "metadata": {
  "kernelspec": {
   "display_name": "base",
   "language": "python",
   "name": "python3"
  },
  "language_info": {
   "codemirror_mode": {
    "name": "ipython",
    "version": 3
   },
   "file_extension": ".py",
   "mimetype": "text/x-python",
   "name": "python",
   "nbconvert_exporter": "python",
   "pygments_lexer": "ipython3",
   "version": "3.10.10"
  },
  "orig_nbformat": 4
 },
 "nbformat": 4,
 "nbformat_minor": 2
}
