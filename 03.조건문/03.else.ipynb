{
 "cells": [
  {
   "attachments": {},
   "cell_type": "markdown",
   "metadata": {},
   "source": [
    "# 3-2. if ~ else"
   ]
  },
  {
   "attachments": {},
   "cell_type": "markdown",
   "metadata": {},
   "source": [
    "- 조건부 표현식(3항 연산자)\n",
    "    * JS, Java의 y = (num % 2) ? '짝수' : '홀수';"
   ]
  },
  {
   "cell_type": "code",
   "execution_count": 1,
   "metadata": {},
   "outputs": [
    {
     "name": "stdout",
     "output_type": "stream",
     "text": [
      "4 짝수\n"
     ]
    }
   ],
   "source": [
    "import random\n",
    "num = random.randint(1, 10)\n",
    "even_odd = '짝수' if num % 2 == 0 else '홀수'  #의 포메이션\n",
    "print(num, even_odd)"
   ]
  },
  {
   "cell_type": "code",
   "execution_count": 4,
   "metadata": {},
   "outputs": [
    {
     "name": "stdout",
     "output_type": "stream",
     "text": [
      "현재시간 11시 기준 am 입니다.\n"
     ]
    }
   ],
   "source": [
    "import datetime\n",
    "now = datetime.datetime.now()\n",
    "am_pm = 'am' if now.hour < 12 else 'pm'\n",
    "print(f'현재시간 {now.hour}시 기준 {am_pm} 입니다.')"
   ]
  },
  {
   "cell_type": "code",
   "execution_count": 2,
   "metadata": {},
   "outputs": [
    {
     "name": "stdout",
     "output_type": "stream",
     "text": [
      "성적 70점 기준 PASS입니다.\n"
     ]
    }
   ],
   "source": [
    "# 성적(score)이 60점 이상이면 pass, 아니면 fail\n",
    "score = int(input('성적 입력> '))\n",
    "result = 'PASS' if score >=60 else 'FAIL'\n",
    "print(f'성적 {score}점 기준 {result}입니다.')"
   ]
  },
  {
   "cell_type": "code",
   "execution_count": 7,
   "metadata": {},
   "outputs": [
    {
     "name": "stdout",
     "output_type": "stream",
     "text": [
      "65 재시험\n"
     ]
    }
   ],
   "source": [
    "# 성적이 60점 이상 70점 미만이면 재시험,  70점이상이면 통과 60미만 불통\n",
    "score = int(input('성적입력> '))\n",
    "result = '통과' if score>=70 else \\\n",
    "'재시험' if score>=60 else '불통'\n",
    "print(score, result)"
   ]
  },
  {
   "cell_type": "code",
   "execution_count": null,
   "metadata": {},
   "outputs": [],
   "source": []
  }
 ],
 "metadata": {
  "kernelspec": {
   "display_name": "base",
   "language": "python",
   "name": "python3"
  },
  "language_info": {
   "codemirror_mode": {
    "name": "ipython",
    "version": 3
   },
   "file_extension": ".py",
   "mimetype": "text/x-python",
   "name": "python",
   "nbconvert_exporter": "python",
   "pygments_lexer": "ipython3",
   "version": "3.10.9"
  },
  "orig_nbformat": 4
 },
 "nbformat": 4,
 "nbformat_minor": 2
}
