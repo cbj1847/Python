{
 "cells": [
  {
   "attachments": {},
   "cell_type": "markdown",
   "metadata": {},
   "source": [
    "# 3-1 if 조건문"
   ]
  },
  {
   "cell_type": "code",
   "execution_count": 6,
   "metadata": {},
   "outputs": [
    {
     "name": "stdout",
     "output_type": "stream",
     "text": [
      "-45은 음수입니다.\n"
     ]
    }
   ],
   "source": [
    "num = int(input('정수 입력> '))\n",
    "if num > 0:\n",
    "    print(f'{num}은 양수입니다.')\n",
    "elif num == 0:\n",
    "    print(f'{num}은 0입니다.')\n",
    "else :\n",
    "    print(f'{num}은 음수입니다.')"
   ]
  },
  {
   "attachments": {},
   "cell_type": "markdown",
   "metadata": {},
   "source": [
    "- 날짜 / 시간 관련"
   ]
  },
  {
   "cell_type": "code",
   "execution_count": 7,
   "metadata": {},
   "outputs": [
    {
     "data": {
      "text/plain": [
       "datetime.datetime(2023, 3, 30, 10, 28, 3, 60920)"
      ]
     },
     "execution_count": 7,
     "metadata": {},
     "output_type": "execute_result"
    }
   ],
   "source": [
    "import datetime\n",
    "datetime.datetime.now()"
   ]
  },
  {
   "cell_type": "code",
   "execution_count": 8,
   "metadata": {},
   "outputs": [
    {
     "data": {
      "text/plain": [
       "'2023-03-30 10:30:49'"
      ]
     },
     "execution_count": 8,
     "metadata": {},
     "output_type": "execute_result"
    }
   ],
   "source": [
    "# 2023-03-30 10:27:51 꼴로 출력하려면\n",
    "now = datetime.datetime.now()\n",
    "f'{now.year}-{now.month:02d}-{now.day:02d} {now.hour:02d}:{now.minute:02d}:{now.second:02d}'"
   ]
  },
  {
   "cell_type": "code",
   "execution_count": 9,
   "metadata": {},
   "outputs": [
    {
     "name": "stdout",
     "output_type": "stream",
     "text": [
      "오전입니다.\n"
     ]
    }
   ],
   "source": [
    "# 현재 시간이 오전/오후인지 구분\n",
    "if(now.hour < 12):\n",
    "    print('오전입니다.')\n",
    "elif(now.hour >= 12):\n",
    "    print('오후입니다.')"
   ]
  },
  {
   "cell_type": "code",
   "execution_count": 12,
   "metadata": {},
   "outputs": [
    {
     "name": "stdout",
     "output_type": "stream",
     "text": [
      "봄입니다.\n"
     ]
    }
   ],
   "source": [
    "# 계절 구분\n",
    "# 12 - 2: 겨울, 3 - 5: 봄, 6 - 8: 여름, 9 - 11: 가을\n",
    "if(1 <= now.month <= 2 or now.month == 12):\n",
    "    print('겨울입니다.')\n",
    "elif(3 <= now.month <= 5):\n",
    "    print('봄입니다.')\n",
    "elif(6 <= now.month <= 8):\n",
    "    print('여름입니다.')\n",
    "else:\n",
    "    print('가을입니다.')"
   ]
  },
  {
   "cell_type": "code",
   "execution_count": 14,
   "metadata": {},
   "outputs": [
    {
     "name": "stdout",
     "output_type": "stream",
     "text": [
      "245은 홀수입니다.\n"
     ]
    }
   ],
   "source": [
    "# 홀짝 구분\n",
    "import random\n",
    "num1 = random.randint(1, 1000)\n",
    "if(num1 % 2 == 0):\n",
    "    print(f'{num1}은 짝수입니다.')\n",
    "else:\n",
    "    print(f'{num1}은 홀수입니다.')"
   ]
  },
  {
   "attachments": {},
   "cell_type": "markdown",
   "metadata": {},
   "source": [
    "- pass"
   ]
  },
  {
   "cell_type": "code",
   "execution_count": 15,
   "metadata": {},
   "outputs": [],
   "source": [
    "# pass는 임시방편의 error처리용\n",
    "if True:\n",
    "    pass"
   ]
  },
  {
   "attachments": {},
   "cell_type": "markdown",
   "metadata": {},
   "source": [
    "- 들여쓰기 (Indentation)"
   ]
  },
  {
   "cell_type": "code",
   "execution_count": 18,
   "metadata": {},
   "outputs": [
    {
     "name": "stdout",
     "output_type": "stream",
     "text": [
      "들여쓰기가 끝나면 조건과 관계없이 실행됩니다.\n"
     ]
    }
   ],
   "source": [
    "num1 = 3\n",
    "if(num1 % 2 == 0):\n",
    "    print(f'{num1}은 짝수입니다.')\n",
    "    print('이 부분은 조건이 참일때에만 실행됩니다.')\n",
    "print('들여쓰기가 끝나면 조건과 관계없이 실행됩니다.')"
   ]
  },
  {
   "attachments": {},
   "cell_type": "markdown",
   "metadata": {},
   "source": [
    "- 중첩 조건문(nested if문)"
   ]
  },
  {
   "cell_type": "code",
   "execution_count": 20,
   "metadata": {},
   "outputs": [
    {
     "name": "stdout",
     "output_type": "stream",
     "text": [
      "홀수입니다.\n",
      "10보다 큰 수입니다.\n",
      "들여쓰기를 주의하세요.\n"
     ]
    }
   ],
   "source": [
    "num = 15\n",
    "if num % 2 == 1:\n",
    "    print('홀수입니다.')\n",
    "    if num > 10:\n",
    "        print('10보다 큰 수입니다.')\n",
    "print('들여쓰기를 주의하세요.')"
   ]
  },
  {
   "cell_type": "code",
   "execution_count": null,
   "metadata": {},
   "outputs": [],
   "source": []
  }
 ],
 "metadata": {
  "kernelspec": {
   "display_name": "base",
   "language": "python",
   "name": "python3"
  },
  "language_info": {
   "codemirror_mode": {
    "name": "ipython",
    "version": 3
   },
   "file_extension": ".py",
   "mimetype": "text/x-python",
   "name": "python",
   "nbconvert_exporter": "python",
   "pygments_lexer": "ipython3",
   "version": "3.10.9"
  },
  "orig_nbformat": 4
 },
 "nbformat": 4,
 "nbformat_minor": 2
}
