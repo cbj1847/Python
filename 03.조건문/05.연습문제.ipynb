{
 "cells": [
  {
   "attachments": {},
   "cell_type": "markdown",
   "metadata": {},
   "source": [
    "- Q1. 생일을 입력받아 오늘 현재의 만 나이를 계산하고, 띠를 출력"
   ]
  },
  {
   "cell_type": "code",
   "execution_count": 5,
   "metadata": {},
   "outputs": [
    {
     "name": "stdout",
     "output_type": "stream",
     "text": [
      "오늘 2023-03-30 12:18:14.281315 기준\n",
      "만나이: 27\n",
      "띠: 쥐띠\n"
     ]
    }
   ],
   "source": [
    "import datetime\n",
    "now = datetime.datetime.now()\n",
    "birth_year, birth_month, birth_day = map(int, input('생년월일 입력> ').split())\n",
    "print(f'오늘 {now} 기준')\n",
    "#만나이\n",
    "if now.month > birth_month:\n",
    "    american_age = now.year - birth_year\n",
    "elif now.month == birth_month:\n",
    "    if(now.day > birth_day):\n",
    "        american_age = now.year - birth_year\n",
    "    else:\n",
    "        american_age = now.year - birth_year - 1 \n",
    "else:\n",
    "    american_age = now.year - birth_year - 1\n",
    "print(f'만나이: {american_age}')\n",
    "#띠 출력\n",
    "zodiac = ('쥐', '소', '호랑이', '토끼', '용', '말', '양', '원숭이', '닭', '개', '돼지')\n",
    "zodiac_year = (birth_year - 1900) % 12\n",
    "print(f'띠: {zodiac[zodiac_year]}띠')"
   ]
  },
  {
   "attachments": {},
   "cell_type": "markdown",
   "metadata": {},
   "source": [
    "- Q2. Fizz Buzz\n",
    "    - x % 5 = 0 : Buzz / x % 3 = 0 : Fizz / x % 15 = 0 : FizzBuzz"
   ]
  },
  {
   "cell_type": "code",
   "execution_count": 32,
   "metadata": {},
   "outputs": [
    {
     "name": "stdout",
     "output_type": "stream",
     "text": [
      "10 is Buzz\n"
     ]
    }
   ],
   "source": [
    "import random\n",
    "x = random.randint(1, 100)\n",
    "if(x % 15 == 0):\n",
    "    print(f'{x} is FizzBuzz')\n",
    "elif(x % 5 == 0):\n",
    "    print(f'{x} is Buzz')\n",
    "elif(x % 3 == 0):\n",
    "    print(f'{x} is Fizz')\n",
    "else:\n",
    "    print(f'{x} is Nothing')"
   ]
  },
  {
   "cell_type": "code",
   "execution_count": null,
   "metadata": {},
   "outputs": [],
   "source": []
  }
 ],
 "metadata": {
  "kernelspec": {
   "display_name": "base",
   "language": "python",
   "name": "python3"
  },
  "language_info": {
   "codemirror_mode": {
    "name": "ipython",
    "version": 3
   },
   "file_extension": ".py",
   "mimetype": "text/x-python",
   "name": "python",
   "nbconvert_exporter": "python",
   "pygments_lexer": "ipython3",
   "version": "3.10.10"
  },
  "orig_nbformat": 4
 },
 "nbformat": 4,
 "nbformat_minor": 2
}
