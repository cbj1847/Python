{
 "cells": [
  {
   "cell_type": "code",
   "execution_count": 2,
   "metadata": {},
   "outputs": [
    {
     "name": "stdout",
     "output_type": "stream",
     "text": [
      "1683\n"
     ]
    }
   ],
   "source": [
    "#1-1)\n",
    "sum1 = 0\n",
    "for i in range(1, 101):\n",
    "    if i % 3 == 0:\n",
    "        sum1 += i\n",
    "print(sum1)\n"
   ]
  },
  {
   "cell_type": "code",
   "execution_count": 7,
   "metadata": {},
   "outputs": [
    {
     "name": "stdout",
     "output_type": "stream",
     "text": [
      "14\n"
     ]
    }
   ],
   "source": [
    "#1-2)\n",
    "a, b = map(int, input().split())\n",
    "c = 0\n",
    "if b - a < 0:\n",
    "    c = a\n",
    "    a = b\n",
    "    b = c\n",
    "    \n",
    "sum1 = 0\n",
    "for i in range(a, b+1):\n",
    "    sum1 += i**2\n",
    "\n",
    "print(sum1)"
   ]
  },
  {
   "cell_type": "code",
   "execution_count": 9,
   "metadata": {},
   "outputs": [
    {
     "name": "stdout",
     "output_type": "stream",
     "text": [
      "[1, 9, 25, 49, 81, 121, 169, 225, 289, 361]\n"
     ]
    }
   ],
   "source": [
    "#1-3)\n",
    "\n",
    "odd_sum = [i**2 for i in range(1, 21) if i%2 == 1]\n",
    "print(odd_sum)"
   ]
  },
  {
   "cell_type": "code",
   "execution_count": 18,
   "metadata": {},
   "outputs": [
    {
     "name": "stdout",
     "output_type": "stream",
     "text": [
      "ID: 1, 이름: james, 나이: 27, 전화번호: 010-6405-1847 ID: 1, 이름: maria, 나이: 29, 전화번호: 010-4422-1133\n"
     ]
    }
   ],
   "source": [
    "#2-1)\n",
    "import datetime\n",
    "\n",
    "now = datetime.datetime.now()\n",
    "class Member():\n",
    "    def __init__(self, mid, name, birth_year, tel):\n",
    "        self.mid = mid\n",
    "        self.name = name\n",
    "        self.birth_year = birth_year\n",
    "        self.__tel = tel\n",
    "    \n",
    "    def get_age(self):\n",
    "        return now.year - self.birth_year\n",
    "    \n",
    "    def get_tel(self):          \n",
    "        return self.__tel\n",
    "    \n",
    "    def set_tel(self, tel):        \n",
    "        self.__tel = tel\n",
    "\n",
    "    def __str__(self):\n",
    "        return f'ID: {self.mid}, 이름: {self.name}, 나이: {self.get_age()}, 전화번호: {self.__tel}'\n",
    "    \n",
    "james = Member(1, 'james', 1996, '010-6405-1847')\n",
    "maria = Member(1, 'maria', 1994, '010-6400-1847')\n",
    "maria.set_tel('010-4422-1133')\n",
    "\n",
    "print(james, maria)"
   ]
  },
  {
   "cell_type": "code",
   "execution_count": 20,
   "metadata": {},
   "outputs": [
    {
     "name": "stdout",
     "output_type": "stream",
     "text": [
      "[2, 3, 5, 7, 11, 13, 17, 19, 23, 29, 31, 37, 41, 43, 47, 53, 59, 61, 67, 71, 73, 79, 83, 89, 97]\n"
     ]
    }
   ],
   "source": [
    "#3-1\n",
    "\n",
    "def is_prime(num):\n",
    "    divisor_list = []\n",
    "    for i in range(1, num+1):\n",
    "        if num % i == 0:\n",
    "            divisor_list.append(i)\n",
    "    return len(divisor_list) == 2\n",
    "\n",
    "divisors = []\n",
    "\n",
    "for j in range(2, 101):\n",
    "    if is_prime(j):\n",
    "        divisors.append(j)\n",
    "\n",
    "print(divisors)"
   ]
  }
 ],
 "metadata": {
  "kernelspec": {
   "display_name": "base",
   "language": "python",
   "name": "python3"
  },
  "language_info": {
   "codemirror_mode": {
    "name": "ipython",
    "version": 3
   },
   "file_extension": ".py",
   "mimetype": "text/x-python",
   "name": "python",
   "nbconvert_exporter": "python",
   "pygments_lexer": "ipython3",
   "version": "3.10.10"
  },
  "orig_nbformat": 4
 },
 "nbformat": 4,
 "nbformat_minor": 2
}
